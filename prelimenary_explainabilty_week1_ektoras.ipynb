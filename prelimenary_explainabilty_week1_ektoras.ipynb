{
 "cells": [
  {
   "cell_type": "code",
   "execution_count": 6,
   "metadata": {
    "colab": {
     "base_uri": "https://localhost:8080/"
    },
    "id": "uab-E_7NwVTH",
    "outputId": "880b32d8-a497-4b2d-bc0c-2095608ccf7f"
   },
   "outputs": [
    {
     "name": "stdout",
     "output_type": "stream",
     "text": [
      "Requirement already satisfied: xlrd in /usr/local/lib/python3.10/dist-packages (2.0.1)\n",
      "Collecting fairlearn\n",
      "  Downloading fairlearn-0.9.0-py3-none-any.whl (231 kB)\n",
      "\u001b[2K     \u001b[90m━━━━━━━━━━━━━━━━━━━━━━━━━━━━━━━━━━━━━━━━\u001b[0m \u001b[32m231.5/231.5 kB\u001b[0m \u001b[31m3.3 MB/s\u001b[0m eta \u001b[36m0:00:00\u001b[0m\n",
      "\u001b[?25hRequirement already satisfied: numpy>=1.18.0 in /usr/local/lib/python3.10/dist-packages (from fairlearn) (1.23.5)\n",
      "Requirement already satisfied: pandas>=0.25.2 in /usr/local/lib/python3.10/dist-packages (from fairlearn) (1.5.3)\n",
      "Requirement already satisfied: scikit-learn>=0.22.1 in /usr/local/lib/python3.10/dist-packages (from fairlearn) (1.2.2)\n",
      "Requirement already satisfied: scipy>=1.5.0 in /usr/local/lib/python3.10/dist-packages (from fairlearn) (1.11.3)\n",
      "Requirement already satisfied: python-dateutil>=2.8.1 in /usr/local/lib/python3.10/dist-packages (from pandas>=0.25.2->fairlearn) (2.8.2)\n",
      "Requirement already satisfied: pytz>=2020.1 in /usr/local/lib/python3.10/dist-packages (from pandas>=0.25.2->fairlearn) (2023.3.post1)\n",
      "Requirement already satisfied: joblib>=1.1.1 in /usr/local/lib/python3.10/dist-packages (from scikit-learn>=0.22.1->fairlearn) (1.3.2)\n",
      "Requirement already satisfied: threadpoolctl>=2.0.0 in /usr/local/lib/python3.10/dist-packages (from scikit-learn>=0.22.1->fairlearn) (3.2.0)\n",
      "Requirement already satisfied: six>=1.5 in /usr/local/lib/python3.10/dist-packages (from python-dateutil>=2.8.1->pandas>=0.25.2->fairlearn) (1.16.0)\n",
      "Installing collected packages: fairlearn\n",
      "Successfully installed fairlearn-0.9.0\n",
      "Requirement already satisfied: lime in /usr/local/lib/python3.10/dist-packages (0.2.0.1)\n",
      "Requirement already satisfied: matplotlib in /usr/local/lib/python3.10/dist-packages (from lime) (3.7.1)\n",
      "Requirement already satisfied: numpy in /usr/local/lib/python3.10/dist-packages (from lime) (1.23.5)\n",
      "Requirement already satisfied: scipy in /usr/local/lib/python3.10/dist-packages (from lime) (1.11.3)\n",
      "Requirement already satisfied: tqdm in /usr/local/lib/python3.10/dist-packages (from lime) (4.66.1)\n",
      "Requirement already satisfied: scikit-learn>=0.18 in /usr/local/lib/python3.10/dist-packages (from lime) (1.2.2)\n",
      "Requirement already satisfied: scikit-image>=0.12 in /usr/local/lib/python3.10/dist-packages (from lime) (0.19.3)\n",
      "Requirement already satisfied: networkx>=2.2 in /usr/local/lib/python3.10/dist-packages (from scikit-image>=0.12->lime) (3.2.1)\n",
      "Requirement already satisfied: pillow!=7.1.0,!=7.1.1,!=8.3.0,>=6.1.0 in /usr/local/lib/python3.10/dist-packages (from scikit-image>=0.12->lime) (9.4.0)\n",
      "Requirement already satisfied: imageio>=2.4.1 in /usr/local/lib/python3.10/dist-packages (from scikit-image>=0.12->lime) (2.31.6)\n",
      "Requirement already satisfied: tifffile>=2019.7.26 in /usr/local/lib/python3.10/dist-packages (from scikit-image>=0.12->lime) (2023.9.26)\n",
      "Requirement already satisfied: PyWavelets>=1.1.1 in /usr/local/lib/python3.10/dist-packages (from scikit-image>=0.12->lime) (1.4.1)\n",
      "Requirement already satisfied: packaging>=20.0 in /usr/local/lib/python3.10/dist-packages (from scikit-image>=0.12->lime) (23.2)\n",
      "Requirement already satisfied: joblib>=1.1.1 in /usr/local/lib/python3.10/dist-packages (from scikit-learn>=0.18->lime) (1.3.2)\n",
      "Requirement already satisfied: threadpoolctl>=2.0.0 in /usr/local/lib/python3.10/dist-packages (from scikit-learn>=0.18->lime) (3.2.0)\n",
      "Requirement already satisfied: contourpy>=1.0.1 in /usr/local/lib/python3.10/dist-packages (from matplotlib->lime) (1.2.0)\n",
      "Requirement already satisfied: cycler>=0.10 in /usr/local/lib/python3.10/dist-packages (from matplotlib->lime) (0.12.1)\n",
      "Requirement already satisfied: fonttools>=4.22.0 in /usr/local/lib/python3.10/dist-packages (from matplotlib->lime) (4.44.0)\n",
      "Requirement already satisfied: kiwisolver>=1.0.1 in /usr/local/lib/python3.10/dist-packages (from matplotlib->lime) (1.4.5)\n",
      "Requirement already satisfied: pyparsing>=2.3.1 in /usr/local/lib/python3.10/dist-packages (from matplotlib->lime) (3.1.1)\n",
      "Requirement already satisfied: python-dateutil>=2.7 in /usr/local/lib/python3.10/dist-packages (from matplotlib->lime) (2.8.2)\n",
      "Requirement already satisfied: six>=1.5 in /usr/local/lib/python3.10/dist-packages (from python-dateutil>=2.7->matplotlib->lime) (1.16.0)\n"
     ]
    }
   ],
   "source": [
    "!pip install xlrd\n",
    "!pip install fairlearn\n",
    "!pip install lime"
   ]
  },
  {
   "cell_type": "code",
   "execution_count": 14,
   "metadata": {
    "id": "qOkrt0wNvC4k"
   },
   "outputs": [],
   "source": [
    "\n",
    "import numpy as np\n",
    "import pandas as pd\n",
    "from sklearn.ensemble import RandomForestClassifier\n",
    "from sklearn.model_selection import train_test_split\n",
    "from sklearn.metrics import balanced_accuracy_score, precision_score, roc_auc_score\n",
    "from fairlearn.metrics import MetricFrame, selection_rate, demographic_parity_difference, equalized_odds_difference\n",
    "from fairlearn.metrics import demographic_parity_ratio, equalized_odds_ratio\n",
    "import numpy as np\n",
    "import pandas as pd\n",
    "from sklearn.datasets import load_diabetes\n",
    "from sklearn.ensemble import RandomForestClassifier\n",
    "from sklearn.model_selection import GridSearchCV, cross_val_score\n",
    "import json\n",
    "import numpy as np\n",
    "import pandas as pd\n",
    "from sklearn.ensemble import RandomForestClassifier\n",
    "from sklearn.model_selection import train_test_split\n",
    "from sklearn.metrics import balanced_accuracy_score, precision_score, roc_auc_score\n",
    "from fairlearn.metrics import MetricFrame, selection_rate, demographic_parity_difference, equalized_odds_difference\n",
    "from fairlearn.metrics import demographic_parity_ratio, equalized_odds_ratio\n",
    "import seaborn as sns\n",
    "from fairlearn.preprocessing import CorrelationRemover\n",
    "from sklearn.pipeline import Pipeline\n",
    "from fairlearn.reductions import DemographicParity, ExponentiatedGradient\n",
    "import numpy as np\n",
    "import pandas as pd\n",
    "from sklearn.datasets import load_diabetes\n",
    "from sklearn.preprocessing import StandardScaler\n",
    "from sklearn.model_selection import train_test_split\n",
    "from sklearn.metrics import accuracy_score\n",
    "import matplotlib.pyplot as plt\n",
    "from sklearn.ensemble import RandomForestClassifier"
   ]
  },
  {
   "cell_type": "code",
   "execution_count": 8,
   "metadata": {
    "colab": {
     "base_uri": "https://localhost:8080/"
    },
    "id": "EQERHsNqq-y1",
    "outputId": "cdd8ed83-3da3-49b5-adf1-5d110b51e4e1"
   },
   "outputs": [
    {
     "name": "stderr",
     "output_type": "stream",
     "text": [
      "<ipython-input-8-c3388e2b6e24>:28: SettingWithCopyWarning: \n",
      "A value is trying to be set on a copy of a slice from a DataFrame.\n",
      "Try using .loc[row_indexer,col_indexer] = value instead\n",
      "\n",
      "See the caveats in the documentation: https://pandas.pydata.org/pandas-docs/stable/user_guide/indexing.html#returning-a-view-versus-a-copy\n",
      "  X['X3'] = X['X3'].replace({5: 4, 6: 4})\n"
     ]
    },
    {
     "name": "stdout",
     "output_type": "stream",
     "text": [
      "           X1  X2  X3  X4  X5  X6  X7  X8  X9  X10  ...     X14    X15    X16  \\\n",
      "1       20000   2   2   1  24   2   2  -1  -1   -2  ...     689      0      0   \n",
      "2      120000   2   2   2  26  -1   2   0   0    0  ...    2682   3272   3455   \n",
      "3       90000   2   2   2  34   0   0   0   0    0  ...   13559  14331  14948   \n",
      "4       50000   2   2   1  37   0   0   0   0    0  ...   49291  28314  28959   \n",
      "5       50000   1   2   1  57  -1   0  -1   0    0  ...   35835  20940  19146   \n",
      "...       ...  ..  ..  ..  ..  ..  ..  ..  ..  ...  ...     ...    ...    ...   \n",
      "29996  220000   1   3   1  39   0   0   0   0    0  ...  208365  88004  31237   \n",
      "29997  150000   1   3   2  43  -1  -1  -1  -1    0  ...    3502   8979   5190   \n",
      "29998   30000   1   2   2  37   4   3   2  -1    0  ...    2758  20878  20582   \n",
      "29999   80000   1   3   1  41   1  -1   0   0    0  ...   76304  52774  11855   \n",
      "30000   50000   1   2   1  46   0   0   0   0    0  ...   49764  36535  32428   \n",
      "\n",
      "         X17    X18    X19    X20   X21    X22   X23  \n",
      "1          0      0    689      0     0      0     0  \n",
      "2       3261      0   1000   1000  1000      0  2000  \n",
      "3      15549   1518   1500   1000  1000   1000  5000  \n",
      "4      29547   2000   2019   1200  1100   1069  1000  \n",
      "5      19131   2000  36681  10000  9000    689   679  \n",
      "...      ...    ...    ...    ...   ...    ...   ...  \n",
      "29996  15980   8500  20000   5003  3047   5000  1000  \n",
      "29997      0   1837   3526   8998   129      0     0  \n",
      "29998  19357      0      0  22000  4200   2000  3100  \n",
      "29999  48944  85900   3409   1178  1926  52964  1804  \n",
      "30000  15313   2078   1800   1430  1000   1000  1000  \n",
      "\n",
      "[29932 rows x 23 columns]\n"
     ]
    },
    {
     "data": {
      "text/plain": [
       "1    1\n",
       "2    1\n",
       "3    0\n",
       "4    0\n",
       "5    0\n",
       "Name: Y, dtype: int64"
      ]
     },
     "execution_count": 8,
     "metadata": {},
     "output_type": "execute_result"
    }
   ],
   "source": [
    "import pandas as pd\n",
    "from sklearn.preprocessing import StandardScaler\n",
    "from sklearn.preprocessing import MinMaxScaler\n",
    "\n",
    "\n",
    "#reading file\n",
    "file_path = '/content/default of credit card clients (2).xls'\n",
    "\n",
    "# Read Excel file into a DataFrame\n",
    "df = pd.read_excel(file_path)\n",
    "\n",
    "X=df.drop(columns=['Unnamed: 0'])\n",
    "\n",
    "# continue with preperation\n",
    "X=X.drop(columns=['Y'])\n",
    "\n",
    "#get list of feature names\n",
    "feature_names= X.iloc[0].values\n",
    "feature_names = np.array(feature_names)\n",
    "X=X.drop(index=0)\n",
    "\n",
    "y=df['Y']\n",
    "y=y.drop(index=0)\n",
    "\n",
    "y=pd.to_numeric(y)\n",
    "y.head()\n",
    "X = X[X['X3'] != 0]\n",
    "X['X3'] = X['X3'].replace({5: 4, 6: 4})\n",
    "X = X[X['X4'] != 0]\n",
    "X['X4'] = X['X4'].replace({4:3,5: 3, 6: 3})\n",
    "y = y[X.index]  # Update y to match the filtered rows in X\n",
    "for column in X:\n",
    "    X[column] = pd.to_numeric(X[column])\n",
    "    X[column].head()\n",
    "\n",
    "\n",
    "print(X)\n",
    "#split data\n",
    "X_train, X_test, y_train, y_test = train_test_split(X, y, test_size=0.2, random_state=42)\n",
    "\n",
    "#\n",
    "#sensitive_test = X_test['X2']\n",
    "\n",
    "\n",
    "\n",
    "y.head()"
   ]
  },
  {
   "cell_type": "code",
   "execution_count": 9,
   "metadata": {
    "colab": {
     "base_uri": "https://localhost:8080/"
    },
    "id": "F4-D2vvp4AlL",
    "outputId": "798c07bf-3adf-4eec-d613-acffcf88b17a"
   },
   "outputs": [
    {
     "name": "stdout",
     "output_type": "stream",
     "text": [
      "['LIMIT_BAL' 'SEX' 'EDUCATION' 'MARRIAGE' 'AGE' 'PAY_0' 'PAY_2' 'PAY_3'\n",
      " 'PAY_4' 'PAY_5' 'PAY_6' 'BILL_AMT1' 'BILL_AMT2' 'BILL_AMT3' 'BILL_AMT4'\n",
      " 'BILL_AMT5' 'BILL_AMT6' 'PAY_AMT1' 'PAY_AMT2' 'PAY_AMT3' 'PAY_AMT4'\n",
      " 'PAY_AMT5' 'PAY_AMT6']\n"
     ]
    }
   ],
   "source": [
    "#will be needed for feature importance\n",
    "print(feature_names)"
   ]
  },
  {
   "cell_type": "code",
   "execution_count": 4,
   "metadata": {
    "colab": {
     "base_uri": "https://localhost:8080/"
    },
    "id": "pclb9qJxvjIl",
    "outputId": "3eed9964-5c15-48c0-ab02-d06a10a3f70e"
   },
   "outputs": [
    {
     "name": "stdout",
     "output_type": "stream",
     "text": [
      "Collecting lime\n",
      "  Downloading lime-0.2.0.1.tar.gz (275 kB)\n",
      "\u001b[2K     \u001b[90m━━━━━━━━━━━━━━━━━━━━━━━━━━━━━━━━━━━━━━━━\u001b[0m \u001b[32m275.7/275.7 kB\u001b[0m \u001b[31m4.6 MB/s\u001b[0m eta \u001b[36m0:00:00\u001b[0ma \u001b[36m0:00:01\u001b[0m\n",
      "\u001b[?25h  Preparing metadata (setup.py) ... \u001b[?25l\u001b[?25hdone\n",
      "Requirement already satisfied: matplotlib in /usr/local/lib/python3.10/dist-packages (from lime) (3.7.1)\n",
      "Requirement already satisfied: numpy in /usr/local/lib/python3.10/dist-packages (from lime) (1.23.5)\n",
      "Requirement already satisfied: scipy in /usr/local/lib/python3.10/dist-packages (from lime) (1.11.3)\n",
      "Requirement already satisfied: tqdm in /usr/local/lib/python3.10/dist-packages (from lime) (4.66.1)\n",
      "Requirement already satisfied: scikit-learn>=0.18 in /usr/local/lib/python3.10/dist-packages (from lime) (1.2.2)\n",
      "Requirement already satisfied: scikit-image>=0.12 in /usr/local/lib/python3.10/dist-packages (from lime) (0.19.3)\n",
      "Requirement already satisfied: networkx>=2.2 in /usr/local/lib/python3.10/dist-packages (from scikit-image>=0.12->lime) (3.2.1)\n",
      "Requirement already satisfied: pillow!=7.1.0,!=7.1.1,!=8.3.0,>=6.1.0 in /usr/local/lib/python3.10/dist-packages (from scikit-image>=0.12->lime) (9.4.0)\n",
      "Requirement already satisfied: imageio>=2.4.1 in /usr/local/lib/python3.10/dist-packages (from scikit-image>=0.12->lime) (2.31.6)\n",
      "Requirement already satisfied: tifffile>=2019.7.26 in /usr/local/lib/python3.10/dist-packages (from scikit-image>=0.12->lime) (2023.9.26)\n",
      "Requirement already satisfied: PyWavelets>=1.1.1 in /usr/local/lib/python3.10/dist-packages (from scikit-image>=0.12->lime) (1.4.1)\n",
      "Requirement already satisfied: packaging>=20.0 in /usr/local/lib/python3.10/dist-packages (from scikit-image>=0.12->lime) (23.2)\n",
      "Requirement already satisfied: joblib>=1.1.1 in /usr/local/lib/python3.10/dist-packages (from scikit-learn>=0.18->lime) (1.3.2)\n",
      "Requirement already satisfied: threadpoolctl>=2.0.0 in /usr/local/lib/python3.10/dist-packages (from scikit-learn>=0.18->lime) (3.2.0)\n",
      "Requirement already satisfied: contourpy>=1.0.1 in /usr/local/lib/python3.10/dist-packages (from matplotlib->lime) (1.2.0)\n",
      "Requirement already satisfied: cycler>=0.10 in /usr/local/lib/python3.10/dist-packages (from matplotlib->lime) (0.12.1)\n",
      "Requirement already satisfied: fonttools>=4.22.0 in /usr/local/lib/python3.10/dist-packages (from matplotlib->lime) (4.44.0)\n",
      "Requirement already satisfied: kiwisolver>=1.0.1 in /usr/local/lib/python3.10/dist-packages (from matplotlib->lime) (1.4.5)\n",
      "Requirement already satisfied: pyparsing>=2.3.1 in /usr/local/lib/python3.10/dist-packages (from matplotlib->lime) (3.1.1)\n",
      "Requirement already satisfied: python-dateutil>=2.7 in /usr/local/lib/python3.10/dist-packages (from matplotlib->lime) (2.8.2)\n",
      "Requirement already satisfied: six>=1.5 in /usr/local/lib/python3.10/dist-packages (from python-dateutil>=2.7->matplotlib->lime) (1.16.0)\n",
      "Building wheels for collected packages: lime\n",
      "  Building wheel for lime (setup.py) ... \u001b[?25l\u001b[?25hdone\n",
      "  Created wheel for lime: filename=lime-0.2.0.1-py3-none-any.whl size=283834 sha256=43a9aeb0bc4f9262d6bd594ec831bab974137dff5624e042697938f09b4a2898\n",
      "  Stored in directory: /root/.cache/pip/wheels/fd/a2/af/9ac0a1a85a27f314a06b39e1f492bee1547d52549a4606ed89\n",
      "Successfully built lime\n",
      "Installing collected packages: lime\n",
      "Successfully installed lime-0.2.0.1\n"
     ]
    }
   ],
   "source": []
  },
  {
   "cell_type": "code",
   "execution_count": 11,
   "metadata": {
    "colab": {
     "base_uri": "https://localhost:8080/"
    },
    "id": "RnLSg-DrrC0Y",
    "outputId": "3bae3294-3c3d-43b7-8976-8eb3da975f98"
   },
   "outputs": [
    {
     "name": "stdout",
     "output_type": "stream",
     "text": [
      "random forest Results:\n",
      "Accuracy: 0.82\n",
      "Classification Report:\n",
      "              precision    recall  f1-score   support\n",
      "\n",
      "           0       0.83      0.95      0.89      4660\n",
      "           1       0.68      0.34      0.45      1327\n",
      "\n",
      "    accuracy                           0.82      5987\n",
      "   macro avg       0.76      0.65      0.67      5987\n",
      "weighted avg       0.80      0.82      0.79      5987\n",
      "\n",
      "LIME Explanation:\n",
      "[('-1.00 < 5 <= 0.00', -0.07151737715094961), ('0 <= 50000.00', 0.041910870080329704), ('-1.00 < 6 <= 0.00', -0.03173293605529052), ('-1.00 < 7 <= 0.00', -0.015120701473679781), ('-1.00 < 8 <= 0.00', -0.012438979485211802), ('-1.00 < 9 <= 0.00', -0.012419617602984193), ('20 <= 300.00', 0.012297323408990389), ('-1.00 < 10 <= 0.00', -0.010154316385445197), ('891.00 < 18 <= 2007.00', 0.010082975466801874), ('1280.00 < 16 <= 17041.00', -0.008262397609570874)]\n",
      "\n",
      "\n"
     ]
    },
    {
     "name": "stderr",
     "output_type": "stream",
     "text": [
      "/usr/local/lib/python3.10/dist-packages/sklearn/base.py:439: UserWarning: X does not have valid feature names, but RandomForestClassifier was fitted with feature names\n",
      "  warnings.warn(\n"
     ]
    }
   ],
   "source": [
    "from sklearn.metrics import accuracy_score\n",
    "from sklearn.metrics import classification_report\n",
    "from sklearn.metrics import accuracy_score, classification_report\n",
    "from sklearn.svm import SVC\n",
    "from sklearn.linear_model import LogisticRegression\n",
    "from sklearn.tree import DecisionTreeClassifier\n",
    "from sklearn.neighbors import KNeighborsClassifier\n",
    "from sklearn.ensemble import RandomForestClassifier\n",
    "from lime.lime_tabular import LimeTabularExplainer\n",
    "\n",
    "# Initialize models\n",
    "model= RandomForestClassifier(max_depth=10, min_samples_leaf=2, min_samples_split=5, n_estimators=150)\n",
    "\n",
    "explainer = LimeTabularExplainer(X_train.values, mode=\"classification\")\n",
    "\n",
    "results = {}\n",
    "\n",
    "model.fit(X_train, y_train)\n",
    "y_pred = model.predict(X_test)\n",
    "accuracy = accuracy_score(y_test, y_pred)\n",
    "classification_report_output = classification_report(y_test, y_pred)\n",
    "\n",
    "explanation = explainer.explain_instance(X_test.iloc[0], model.predict_proba)\n",
    "\n",
    "result = {\n",
    "        \"accuracy\": accuracy,\n",
    "        \"classification_report\": classification_report_output,\n",
    "        \"lime_explanation\": explanation.as_list()\n",
    "}\n",
    "\n",
    "\n",
    "\n",
    "# Print results for each model\n",
    "model_name=\"random forest\"\n",
    "print(f\"{model_name} Results:\")\n",
    "print(f\"Accuracy: {result['accuracy']:.2f}\")\n",
    "print(\"Classification Report:\")\n",
    "print(result['classification_report'])\n",
    "print(\"LIME Explanation:\")\n",
    "print(result['lime_explanation'])\n",
    "print(\"\\n\")\n"
   ]
  },
  {
   "cell_type": "code",
   "execution_count": 12,
   "metadata": {
    "colab": {
     "base_uri": "https://localhost:8080/"
    },
    "id": "7FjQX48g4nAA",
    "outputId": "b845f4ea-c1bb-491a-e5ed-78033513974d"
   },
   "outputs": [
    {
     "name": "stdout",
     "output_type": "stream",
     "text": [
      "      Feature  Importance\n",
      "5       PAY_0    0.233392\n",
      "6       PAY_2    0.132732\n",
      "7       PAY_3    0.068554\n",
      "8       PAY_4    0.044274\n",
      "17   PAY_AMT1    0.043755\n",
      "0   LIMIT_BAL    0.038119\n",
      "9       PAY_5    0.037408\n",
      "10      PAY_6    0.036680\n",
      "11  BILL_AMT1    0.036256\n",
      "18   PAY_AMT2    0.031284\n",
      "12  BILL_AMT2    0.031191\n",
      "19   PAY_AMT3    0.030903\n",
      "13  BILL_AMT3    0.029853\n",
      "15  BILL_AMT5    0.027846\n",
      "16  BILL_AMT6    0.027356\n",
      "14  BILL_AMT4    0.026931\n",
      "22   PAY_AMT6    0.026881\n",
      "21   PAY_AMT5    0.026878\n",
      "4         AGE    0.026564\n",
      "20   PAY_AMT4    0.026371\n",
      "2   EDUCATION    0.007849\n",
      "3    MARRIAGE    0.004938\n",
      "1         SEX    0.003983\n"
     ]
    }
   ],
   "source": [
    "importances = model.feature_importances_\n",
    "\n",
    "# Create a DataFrame to store the importances with their corresponding feature names\n",
    "importances_df = pd.DataFrame({'Feature': feature_names, 'Importance': importances})\n",
    "\n",
    "# Sort the DataFrame by importance in descending order\n",
    "importances_df = importances_df.reindex(importances_df['Importance'].abs().sort_values(ascending=False).index)\n",
    "print(importances_df)"
   ]
  },
  {
   "cell_type": "code",
   "execution_count": 15,
   "metadata": {
    "colab": {
     "base_uri": "https://localhost:8080/",
     "height": 569
    },
    "id": "itanYUfR4Ea1",
    "outputId": "ca3be8f9-1466-4775-df46-a8295b892aeb"
   },
   "outputs": [
    {
     "data": {
      "image/png": "[encoded data removed]",
      "text/plain": [
       "<Figure size 1200x600 with 1 Axes>"
      ]
     },
     "metadata": {},
     "output_type": "display_data"
    }
   ],
   "source": [
    "plt.figure(figsize=(12, 6))\n",
    "plt.subplot(1, 1, 1)\n",
    "plt.bar(importances_df['Feature'], importances_df['Importance'])\n",
    "plt.xticks(rotation=45, ha='right')\n",
    "plt.xlabel('Feature')\n",
    "plt.ylabel('Importance')\n",
    "plt.title('Feature Importance: Random Forest Regressor')\n",
    "plt.tight_layout()\n",
    "plt.show()"
   ]
  }
 ],
 "metadata": {
  "colab": {
   "provenance": []
  },
  "kernelspec": {
   "display_name": "Python 3 (ipykernel)",
   "language": "python",
   "name": "python3"
  },
  "language_info": {
   "codemirror_mode": {
    "name": "ipython",
    "version": 3
   },
   "file_extension": ".py",
   "mimetype": "text/x-python",
   "name": "python",
   "nbconvert_exporter": "python",
   "pygments_lexer": "ipython3",
   "version": "3.9.7"
  }
 },
 "nbformat": 4,
 "nbformat_minor": 4
}
