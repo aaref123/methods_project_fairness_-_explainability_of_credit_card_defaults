{
 "cells": [
  {
   "cell_type": "code",
   "execution_count": 2,
   "id": "31b35a11-f45e-4f7c-bcf9-6baa196839de",
   "metadata": {},
   "outputs": [
    {
     "name": "stdout",
     "output_type": "stream",
     "text": [
      "Requirement already satisfied: fairlearn in /opt/conda/lib/python3.9/site-packages (0.9.0)\n",
      "Requirement already satisfied: numpy>=1.18.0 in /opt/conda/lib/python3.9/site-packages (from fairlearn) (1.22.2)\n",
      "Requirement already satisfied: pandas>=0.25.2 in /opt/conda/lib/python3.9/site-packages (from fairlearn) (1.4.1)\n",
      "Requirement already satisfied: scipy>=1.5.0 in /opt/conda/lib/python3.9/site-packages (from fairlearn) (1.8.0)\n",
      "Requirement already satisfied: scikit-learn>=0.22.1 in /opt/conda/lib/python3.9/site-packages (from fairlearn) (1.0.2)\n",
      "Requirement already satisfied: python-dateutil>=2.8.1 in /opt/conda/lib/python3.9/site-packages (from pandas>=0.25.2->fairlearn) (2.8.2)\n",
      "Requirement already satisfied: pytz>=2020.1 in /opt/conda/lib/python3.9/site-packages (from pandas>=0.25.2->fairlearn) (2021.3)\n",
      "Requirement already satisfied: threadpoolctl>=2.0.0 in /opt/conda/lib/python3.9/site-packages (from scikit-learn>=0.22.1->fairlearn) (3.1.0)\n",
      "Requirement already satisfied: joblib>=0.11 in /opt/conda/lib/python3.9/site-packages (from scikit-learn>=0.22.1->fairlearn) (1.1.0)\n",
      "Requirement already satisfied: six>=1.5 in /opt/conda/lib/python3.9/site-packages (from python-dateutil>=2.8.1->pandas>=0.25.2->fairlearn) (1.16.0)\n"
     ]
    }
   ],
   "source": [
    "# Installing the fairlearn package\n",
    "!pip install fairlearn"
   ]
  },
  {
   "cell_type": "code",
   "execution_count": 3,
   "id": "8d1604fd-e85a-4598-ae1c-5045491ee31e",
   "metadata": {},
   "outputs": [],
   "source": [
    "import numpy as np\n",
    "import pandas as pd\n",
    "from sklearn.ensemble import RandomForestClassifier\n",
    "from sklearn.model_selection import train_test_split\n",
    "from sklearn.metrics import balanced_accuracy_score, precision_score, roc_auc_score\n",
    "from fairlearn.metrics import MetricFrame, selection_rate, demographic_parity_difference, equalized_odds_difference\n",
    "from fairlearn.metrics import demographic_parity_ratio, equalized_odds_ratio"
   ]
  },
  {
   "cell_type": "code",
   "execution_count": 4,
   "id": "d00ca4a3-42a9-4c5b-8ca1-9acdf004508c",
   "metadata": {},
   "outputs": [
    {
     "name": "stdout",
     "output_type": "stream",
     "text": [
      "Requirement already satisfied: xlrd in /opt/conda/lib/python3.9/site-packages (2.0.1)\n",
      "Note: you may need to restart the kernel to use updated packages.\n"
     ]
    }
   ],
   "source": [
    "pip install xlrd"
   ]
  },
  {
   "cell_type": "code",
   "execution_count": null,
   "id": "aaed0794-45b5-4937-8116-8541f1acf573",
   "metadata": {},
   "outputs": [],
   "source": [
    "The data preprocessing done was which would affect the \n",
    "training and test.According to the OpenML dataset description, values 3 and 4 in both X3 and X4\n",
    "were originally intended to represent \"others\". However, the dataset contained additional values,\n",
    "including 4, 5, and 6. To prevent confusion and simplify the input for the models, I combined these\n",
    "values under the \"others\" category in their respective columns."
   ]
  },
  {
   "cell_type": "code",
   "execution_count": 6,
   "id": "fb489a1c-654b-4411-b020-692a6c5950b9",
   "metadata": {},
   "outputs": [
    {
     "name": "stdout",
     "output_type": "stream",
     "text": [
      "      Unnamed: 0         X1   X2         X3        X4   X5     X6     X7  \\\n",
      "0             ID  LIMIT_BAL  SEX  EDUCATION  MARRIAGE  AGE  PAY_0  PAY_2   \n",
      "1              1      20000    2          2         1   24      2      2   \n",
      "2              2     120000    2          2         2   26     -1      2   \n",
      "3              3      90000    2          2         2   34      0      0   \n",
      "4              4      50000    2          2         1   37      0      0   \n",
      "...          ...        ...  ...        ...       ...  ...    ...    ...   \n",
      "29996      29996     220000    1          3         1   39      0      0   \n",
      "29997      29997     150000    1          3         2   43     -1     -1   \n",
      "29998      29998      30000    1          2         2   37      4      3   \n",
      "29999      29999      80000    1          3         1   41      1     -1   \n",
      "30000      30000      50000    1          2         1   46      0      0   \n",
      "\n",
      "          X8     X9  ...        X15        X16        X17       X18       X19  \\\n",
      "0      PAY_3  PAY_4  ...  BILL_AMT4  BILL_AMT5  BILL_AMT6  PAY_AMT1  PAY_AMT2   \n",
      "1         -1     -1  ...          0          0          0         0       689   \n",
      "2          0      0  ...       3272       3455       3261         0      1000   \n",
      "3          0      0  ...      14331      14948      15549      1518      1500   \n",
      "4          0      0  ...      28314      28959      29547      2000      2019   \n",
      "...      ...    ...  ...        ...        ...        ...       ...       ...   \n",
      "29996      0      0  ...      88004      31237      15980      8500     20000   \n",
      "29997     -1     -1  ...       8979       5190          0      1837      3526   \n",
      "29998      2     -1  ...      20878      20582      19357         0         0   \n",
      "29999      0      0  ...      52774      11855      48944     85900      3409   \n",
      "30000      0      0  ...      36535      32428      15313      2078      1800   \n",
      "\n",
      "            X20       X21       X22       X23                           Y  \n",
      "0      PAY_AMT3  PAY_AMT4  PAY_AMT5  PAY_AMT6  default payment next month  \n",
      "1             0         0         0         0                           1  \n",
      "2          1000      1000         0      2000                           1  \n",
      "3          1000      1000      1000      5000                           0  \n",
      "4          1200      1100      1069      1000                           0  \n",
      "...         ...       ...       ...       ...                         ...  \n",
      "29996      5003      3047      5000      1000                           0  \n",
      "29997      8998       129         0         0                           0  \n",
      "29998     22000      4200      2000      3100                           1  \n",
      "29999      1178      1926     52964      1804                           1  \n",
      "30000      1430      1000      1000      1000                           1  \n",
      "\n",
      "[30001 rows x 25 columns]\n"
     ]
    },
    {
     "data": {
      "text/plain": [
       "1    1\n",
       "2    1\n",
       "3    0\n",
       "4    0\n",
       "5    0\n",
       "Name: Y, dtype: int64"
      ]
     },
     "execution_count": 6,
     "metadata": {},
     "output_type": "execute_result"
    }
   ],
   "source": [
    "import pandas as pd\n",
    "from sklearn.preprocessing import StandardScaler\n",
    "from sklearn.preprocessing import MinMaxScaler\n",
    "\n",
    "\n",
    "#reading file\n",
    "file_path = 'default of credit card clients.xls'\n",
    "\n",
    "# Read Excel file into a DataFrame\n",
    "df = pd.read_excel(file_path)\n",
    "\n",
    "print(df)\n",
    "\n",
    "# removing the first column which only contained ids\n",
    "#removing the first row as it was the name of each column in a string type\n",
    "X=df.drop(columns=['Y'])\n",
    "X=X.drop(columns=['Unnamed: 0'])\n",
    "\n",
    "X=X.drop(index=0)\n",
    "\n",
    "y=df['Y']\n",
    "y=y.drop(index=0)\n",
    "\n",
    "y=pd.to_numeric(y)\n",
    "y.head()\n",
    "\n",
    "#in dataset desription only say other has one value so merged aditional ones into 4 for X3 and 3 for X4\n",
    "X = X[X['X3'] != 0]\n",
    "X['X3'] = X['X3'].replace({5: 4, 6: 4})\n",
    "X = X[X['X4'] != 0]\n",
    "X['X4'] = X['X4'].replace({4:3,5: 3, 6: 3})\n",
    "y = y[X.index]  # Update y to match the filtered rows in X\n",
    "for column in X:\n",
    "    X[column] = pd.to_numeric(X[column])\n",
    "    X[column].head()\n",
    "\n",
    "\n",
    "#minmax scaler or standard scaler\n",
    "\n",
    "#split data\n",
    "X_train, X_test, y_train, y_test = train_test_split(X, y, test_size=0.2, random_state=42)\n",
    "\n",
    "#\n",
    "#sensitive_test = X_test['X2']\n",
    "\n",
    "\n",
    "\n",
    "y.head()"
   ]
  },
  {
   "cell_type": "code",
   "execution_count": 14,
   "id": "72b7154a-379d-46df-9c1d-57953c2cc3e5",
   "metadata": {},
   "outputs": [
    {
     "data": {
      "text/plain": [
       "array([2, 1, 3, 4])"
      ]
     },
     "execution_count": 14,
     "metadata": {},
     "output_type": "execute_result"
    }
   ],
   "source": [
    "X['X3'].unique()"
   ]
  },
  {
   "cell_type": "code",
   "execution_count": 15,
   "id": "ad5ed221-7bd3-453f-8a7b-0aa0a578ae33",
   "metadata": {},
   "outputs": [
    {
     "data": {
      "text/plain": [
       "array([1, 2, 3])"
      ]
     },
     "execution_count": 15,
     "metadata": {},
     "output_type": "execute_result"
    }
   ],
   "source": [
    "X['X4'].unique()"
   ]
  },
  {
   "cell_type": "markdown",
   "id": "efffc08e-a458-477a-aaeb-3e83b4eece7e",
   "metadata": {},
   "source": [
    "seeing selection rates  for each of X2, X3 and X4"
   ]
  },
  {
   "cell_type": "code",
   "execution_count": 7,
   "id": "5d1dd484-b817-456a-b460-b879737e551b",
   "metadata": {},
   "outputs": [
    {
     "name": "stdout",
     "output_type": "stream",
     "text": [
      "figure below :1 is male and 2 is female\n"
     ]
    },
    {
     "data": {
      "image/png": "[encoded data removed]",
      "text/plain": [
       "<Figure size 432x288 with 1 Axes>"
      ]
     },
     "metadata": {
      "needs_background": "light"
     },
     "output_type": "display_data"
    }
   ],
   "source": [
    "#i skipped the index [0] because it has labels in that row\n",
    "selection_rates = MetricFrame(\n",
    "    metrics=selection_rate, y_true=df['Y'][1:], y_pred=df['Y'][1:], sensitive_features=df['X2'][1:]\n",
    ")\n",
    "\n",
    "\n",
    "\n",
    "fig = selection_rates.by_group.plot.bar(\n",
    "    legend=False, rot=0, title=\"Fraction of credits defaulted \", ylabel='Selection Rate'\n",
    ")\n",
    "print(\"figure below :1 is male and 2 is female\")"
   ]
  },
  {
   "cell_type": "markdown",
   "id": "579ac514-8d0f-4f62-b661-b87941a66c78",
   "metadata": {},
   "source": []
  },
  {
   "cell_type": "code",
   "execution_count": 16,
   "id": "d2ce45f5-831d-4e0f-94ab-761a22eb62a2",
   "metadata": {},
   "outputs": [
    {
     "name": "stdout",
     "output_type": "stream",
     "text": [
      "figure below X3: Education (1 = graduate school; 2 = university; 3 = high school; 4 = others).\n"
     ]
    },
    {
     "data": {
      "image/png": "[encoded data removed]",
      "text/plain": [
       "<Figure size 432x288 with 1 Axes>"
      ]
     },
     "metadata": {
      "needs_background": "light"
     },
     "output_type": "display_data"
    }
   ],
   "source": [
    "import matplotlib.pyplot as plt\n",
    "from fairlearn.metrics import MetricFrame, selection_rate\n",
    "\n",
    "# Create MetricFrame with the filtered data\n",
    "selection_rates = MetricFrame(\n",
    "    metrics=selection_rate,\n",
    "    y_true=y,\n",
    "    y_pred=y,\n",
    "    sensitive_features=X['X3']\n",
    ")\n",
    "\n",
    "# Create the bar plot\n",
    "fig = selection_rates.by_group.plot.bar(\n",
    "    legend=False, rot=0, title=\"Fraction of credits defaulted \", ylabel='Selection Rate'\n",
    ")\n",
    "\n",
    "# Set the x-axis labels\n",
    "plt.xticks(range(len(selection_rates.by_group)), selection_rates.by_group.index)\n",
    "\n",
    "# Print information about X3\n",
    "print(\"figure below X3: Education (1 = graduate school; 2 = university; 3 = high school; 4 = others).\")\n",
    "\n",
    "# Show the plot\n",
    "plt.show()\n"
   ]
  },
  {
   "cell_type": "code",
   "execution_count": 18,
   "id": "f49fc7e8-b61f-4ff6-9722-5d73507686ff",
   "metadata": {},
   "outputs": [
    {
     "data": {
      "text/plain": [
       "2    14024\n",
       "1    10581\n",
       "3     4873\n",
       "4      454\n",
       "Name: X3, dtype: int64"
      ]
     },
     "execution_count": 18,
     "metadata": {},
     "output_type": "execute_result"
    }
   ],
   "source": [
    "X['X3'].value_counts()\n",
    "#"
   ]
  },
  {
   "cell_type": "code",
   "execution_count": 20,
   "id": "b6a62699-d022-4d08-a3a6-de193891b3a6",
   "metadata": {},
   "outputs": [
    {
     "name": "stdout",
     "output_type": "stream",
     "text": [
      " X4: Marital status (1 = married; 2 = single; 3 = others)\n"
     ]
    },
    {
     "data": {
      "image/png": "[encoded data removed]",
      "text/plain": [
       "<Figure size 432x288 with 1 Axes>"
      ]
     },
     "metadata": {
      "needs_background": "light"
     },
     "output_type": "display_data"
    }
   ],
   "source": [
    "selection_rates = MetricFrame(\n",
    "    metrics=selection_rate, y_true=y, y_pred=y, sensitive_features=X['X4']\n",
    ")\n",
    "\n",
    "\n",
    "\n",
    "fig = selection_rates.by_group.plot.bar(\n",
    "    legend=False, rot=0, title=\"Fraction of credits defaulted \", ylabel='Selection Rate'\n",
    ")\n",
    "print(\" X4: Marital status (1 = married; 2 = single; 3 = others)\")"
   ]
  },
  {
   "cell_type": "code",
   "execution_count": 114,
   "id": "feb56bcd-1ca8-46a6-b3a2-356220af122c",
   "metadata": {},
   "outputs": [],
   "source": []
  },
  {
   "cell_type": "code",
   "execution_count": 24,
   "id": "acd55d3d-6248-43e4-b959-94ed4576f93a",
   "metadata": {},
   "outputs": [
    {
     "name": "stdout",
     "output_type": "stream",
     "text": [
      "(29932,)\n"
     ]
    }
   ],
   "source": [
    "print(y.shape)"
   ]
  },
  {
   "cell_type": "code",
   "execution_count": 27,
   "id": "b9baa0dc-7c07-4402-808a-3500686342c5",
   "metadata": {},
   "outputs": [
    {
     "name": "stdout",
     "output_type": "stream",
     "text": [
      "Accuracy: 0.6501074578496786\n",
      "AUC: 0.7595314061534778\n"
     ]
    }
   ],
   "source": [
    "from sklearn.ensemble import RandomForestClassifier\n",
    "from sklearn.metrics import balanced_accuracy_score, roc_auc_score\n",
    "\n",
    "# Assuming X_train, X_test, y_train, and y_test are already defined\n",
    "\n",
    "# Train a random forest classifier\n",
    "clf = RandomForestClassifier(random_state=42)\n",
    "clf.fit(X_train, y_train)\n",
    "\n",
    "# Make predictions\n",
    "y_pred = clf.predict(X_test)\n",
    "y_pred_prob = clf.predict_proba(X_test)[:, 1]  # Probability of positive class\n",
    "\n",
    "# Measure accuracy\n",
    "accuracy = balanced_accuracy_score(y_test, y_pred)\n",
    "print(f\"Accuracy: {accuracy}\")\n",
    "\n",
    "# Measure AUC\n",
    "auc = roc_auc_score(y_test, y_pred_prob)\n",
    "print(f\"AUC: {auc}\")\n"
   ]
  },
  {
   "cell_type": "markdown",
   "id": "9062ca50-5904-4f1d-9bce-53b7006efa8a",
   "metadata": {},
   "source": [
    "seeing fairness metircs x2"
   ]
  },
  {
   "cell_type": "code",
   "execution_count": 28,
   "id": "b025e113-5dd2-4f8a-9002-8bfff6434cdf",
   "metadata": {},
   "outputs": [
    {
     "data": {
      "text/plain": [
       "array([[<AxesSubplot:title={'center':'accuracy'}, xlabel='X2'>,\n",
       "        <AxesSubplot:title={'center':'precision'}, xlabel='X2'>,\n",
       "        <AxesSubplot:title={'center':'false positive rate'}, xlabel='X2'>],\n",
       "       [<AxesSubplot:title={'center':'false negative rate'}, xlabel='X2'>,\n",
       "        <AxesSubplot:title={'center':'selection rate'}, xlabel='X2'>,\n",
       "        <AxesSubplot:xlabel='X2'>],\n",
       "       [<AxesSubplot:xlabel='X2'>, <AxesSubplot:xlabel='X2'>,\n",
       "        <AxesSubplot:xlabel='X2'>]], dtype=object)"
      ]
     },
     "execution_count": 28,
     "metadata": {},
     "output_type": "execute_result"
    },
    {
     "data": {
      "image/png": "[encoded data removed]",
      "text/plain": [
       "<Figure size 864x576 with 9 Axes>"
      ]
     },
     "metadata": {
      "needs_background": "light"
     },
     "output_type": "display_data"
    }
   ],
   "source": [
    "from fairlearn.metrics import (\n",
    "    MetricFrame,\n",
    "    count,\n",
    "    false_negative_rate,\n",
    "    false_positive_rate,\n",
    "    selection_rate,\n",
    ")\n",
    "# Analyze metrics using MetricFrame\n",
    "metrics = {\n",
    "    \"accuracy\": balanced_accuracy_score,\n",
    "    \"precision\": precision_score,\n",
    "    \"false positive rate\": false_positive_rate,\n",
    "    \"false negative rate\": false_negative_rate,\n",
    "    \"selection rate\": selection_rate,\n",
    "}\n",
    "metric_frame = MetricFrame(\n",
    "    metrics=metrics, y_true=y_test, y_pred=y_pred, sensitive_features=X_test[\"X2\"]\n",
    ")\n",
    "metric_frame.by_group.plot.bar(\n",
    "    subplots=True,\n",
    "    layout=[3, 3],\n",
    "    legend=False,\n",
    "    figsize=[12, 8],\n",
    "    ylim=[0,1.05],\n",
    "    title=\"Show all metrics\",\n",
    ")\n"
   ]
  },
  {
   "cell_type": "markdown",
   "id": "9ba9e846-73dd-4dad-8651-b2df252fcbf8",
   "metadata": {},
   "source": []
  },
  {
   "cell_type": "code",
   "execution_count": 29,
   "id": "077c7182-054f-4ab7-bf0f-0cacfe554925",
   "metadata": {},
   "outputs": [
    {
     "name": "stdout",
     "output_type": "stream",
     "text": [
      "Statistical Parity Difference: 0.004971399964231016\n",
      "Statistical Parity ratio: 0.9599928694403917\n",
      "Equalized Odds Difference: 0.01998232270369593\n",
      "Equalized Odds Ratio: 0.945012673135513\n"
     ]
    }
   ],
   "source": [
    "\n",
    "# Statistical Parity\n",
    "stat_parity_diff = demographic_parity_difference(y_test, y_pred, sensitive_features=X_test[\"X2\"])\n",
    "print(f\"Statistical Parity Difference: {stat_parity_diff}\")\n",
    "\n",
    "stat_parity_rto = demographic_parity_ratio(y_test, y_pred, sensitive_features=X_test[\"X2\"])\n",
    "print(f\"Statistical Parity ratio: {stat_parity_rto}\")\n",
    "\n",
    "# Equalized Odds\n",
    "equal_odds_diff = equalized_odds_difference(y_test, y_pred, sensitive_features=X_test[\"X2\"])\n",
    "print(f\"Equalized Odds Difference: {equal_odds_diff}\")\n",
    "\n",
    "equal_odds_rto = equalized_odds_ratio(y_test, y_pred, sensitive_features=X_test[\"X2\"])\n",
    "print(f\"Equalized Odds Ratio: {equal_odds_rto}\")"
   ]
  },
  {
   "cell_type": "markdown",
   "id": "a6251218-ada2-4de8-bf57-4e4a031025ae",
   "metadata": {},
   "source": [
    "seeing fairness metircs x3"
   ]
  },
  {
   "cell_type": "code",
   "execution_count": 30,
   "id": "cb881e99-5921-4693-b72a-f9a1f7942b47",
   "metadata": {},
   "outputs": [
    {
     "data": {
      "text/plain": [
       "array([[<AxesSubplot:title={'center':'accuracy'}, xlabel='X3'>,\n",
       "        <AxesSubplot:title={'center':'precision'}, xlabel='X3'>,\n",
       "        <AxesSubplot:title={'center':'false positive rate'}, xlabel='X3'>],\n",
       "       [<AxesSubplot:title={'center':'false negative rate'}, xlabel='X3'>,\n",
       "        <AxesSubplot:title={'center':'selection rate'}, xlabel='X3'>,\n",
       "        <AxesSubplot:xlabel='X3'>],\n",
       "       [<AxesSubplot:xlabel='X3'>, <AxesSubplot:xlabel='X3'>,\n",
       "        <AxesSubplot:xlabel='X3'>]], dtype=object)"
      ]
     },
     "execution_count": 30,
     "metadata": {},
     "output_type": "execute_result"
    },
    {
     "data": {
      "image/png": "[encoded data removed]",
      "text/plain": [
       "<Figure size 864x576 with 9 Axes>"
      ]
     },
     "metadata": {
      "needs_background": "light"
     },
     "output_type": "display_data"
    }
   ],
   "source": [
    "from fairlearn.metrics import (\n",
    "    MetricFrame,\n",
    "    count,\n",
    "    false_negative_rate,\n",
    "    false_positive_rate,\n",
    "    selection_rate,\n",
    ")\n",
    "# Analyze metrics using MetricFrame\n",
    "metrics = {\n",
    "    \"accuracy\": balanced_accuracy_score,\n",
    "    \"precision\": precision_score,\n",
    "    \"false positive rate\": false_positive_rate,\n",
    "    \"false negative rate\": false_negative_rate,\n",
    "    \"selection rate\": selection_rate,\n",
    "}\n",
    "metric_frame = MetricFrame(\n",
    "    metrics=metrics, y_true=y_test, y_pred=y_pred, sensitive_features=X_test[\"X3\"]\n",
    ")\n",
    "metric_frame.by_group.plot.bar(\n",
    "    subplots=True,\n",
    "    layout=[3, 3],\n",
    "    legend=False,\n",
    "    figsize=[12, 8],\n",
    "    ylim=[0,1.05],\n",
    "    title=\"Show all metrics\",\n",
    ")\n"
   ]
  },
  {
   "cell_type": "code",
   "execution_count": 31,
   "id": "a4c07989-86c0-4f79-bbf2-520bf8cc6175",
   "metadata": {},
   "outputs": [
    {
     "name": "stdout",
     "output_type": "stream",
     "text": [
      "Statistical Parity Difference: 0.12018869391669475\n",
      "Statistical Parity ratio: 0.28869458505905815\n",
      "Equalized Odds Difference: 0.11428571428571432\n",
      "Equalized Odds Ratio: 0.34012578616352207\n"
     ]
    }
   ],
   "source": [
    "\n",
    "# Statistical Parity\n",
    "stat_parity_diff = demographic_parity_difference(y_test, y_pred, sensitive_features=X_test[\"X3\"])\n",
    "print(f\"Statistical Parity Difference: {stat_parity_diff}\")\n",
    "\n",
    "stat_parity_rto = demographic_parity_ratio(y_test, y_pred, sensitive_features=X_test[\"X3\"])\n",
    "print(f\"Statistical Parity ratio: {stat_parity_rto}\")\n",
    "\n",
    "# Equalized Odds\n",
    "equal_odds_diff = equalized_odds_difference(y_test, y_pred, sensitive_features=X_test[\"X3\"])\n",
    "print(f\"Equalized Odds Difference: {equal_odds_diff}\")\n",
    "\n",
    "equal_odds_rto = equalized_odds_ratio(y_test, y_pred, sensitive_features=X_test[\"X3\"])\n",
    "print(f\"Equalized Odds Ratio: {equal_odds_rto}\")"
   ]
  },
  {
   "cell_type": "markdown",
   "id": "b0a4be0c-7aca-496b-b4f6-c5ea9ddbe39a",
   "metadata": {},
   "source": [
    "seeing fairness metircs x4"
   ]
  },
  {
   "cell_type": "code",
   "execution_count": 32,
   "id": "01163c56-b374-4ad1-b3da-3a8608ea6939",
   "metadata": {},
   "outputs": [
    {
     "data": {
      "text/plain": [
       "array([[<AxesSubplot:title={'center':'accuracy'}, xlabel='X4'>,\n",
       "        <AxesSubplot:title={'center':'precision'}, xlabel='X4'>,\n",
       "        <AxesSubplot:title={'center':'false positive rate'}, xlabel='X4'>],\n",
       "       [<AxesSubplot:title={'center':'false negative rate'}, xlabel='X4'>,\n",
       "        <AxesSubplot:title={'center':'selection rate'}, xlabel='X4'>,\n",
       "        <AxesSubplot:xlabel='X4'>],\n",
       "       [<AxesSubplot:xlabel='X4'>, <AxesSubplot:xlabel='X4'>,\n",
       "        <AxesSubplot:xlabel='X4'>]], dtype=object)"
      ]
     },
     "execution_count": 32,
     "metadata": {},
     "output_type": "execute_result"
    },
    {
     "data": {
      "image/png": "[encoded data removed]",
      "text/plain": [
       "<Figure size 864x576 with 9 Axes>"
      ]
     },
     "metadata": {
      "needs_background": "light"
     },
     "output_type": "display_data"
    }
   ],
   "source": [
    "from fairlearn.metrics import (\n",
    "    MetricFrame,\n",
    "    count,\n",
    "    false_negative_rate,\n",
    "    false_positive_rate,\n",
    "    selection_rate,\n",
    ")\n",
    "# Analyze metrics using MetricFrame\n",
    "metrics = {\n",
    "    \"accuracy\": balanced_accuracy_score,\n",
    "    \"precision\": precision_score,\n",
    "    \"false positive rate\": false_positive_rate,\n",
    "    \"false negative rate\": false_negative_rate,\n",
    "    \"selection rate\": selection_rate,\n",
    "}\n",
    "metric_frame = MetricFrame(\n",
    "    metrics=metrics, y_true=y_test, y_pred=y_pred, sensitive_features=X_test[\"X4\"]\n",
    ")\n",
    "metric_frame.by_group.plot.bar(\n",
    "    subplots=True,\n",
    "    layout=[3, 3],\n",
    "    legend=False,\n",
    "    figsize=[12, 8],\n",
    "    ylim=[0,1.05],\n",
    "    title=\"Show all metrics\",\n",
    ")\n"
   ]
  },
  {
   "cell_type": "code",
   "execution_count": 33,
   "id": "c75b1f57-9150-4eb6-8f96-f21cec3aeade",
   "metadata": {},
   "outputs": [
    {
     "name": "stdout",
     "output_type": "stream",
     "text": [
      "Statistical Parity Difference: 0.1185789018250472\n",
      "Statistical Parity ratio: 0.49406335221313197\n",
      "Equalized Odds Difference: 0.1599713055954089\n",
      "Equalized Odds Ratio: 0.6800573888091822\n"
     ]
    }
   ],
   "source": [
    "\n",
    "# Statistical Parity\n",
    "stat_parity_diff = demographic_parity_difference(y_test, y_pred, sensitive_features=X_test[\"X4\"])\n",
    "print(f\"Statistical Parity Difference: {stat_parity_diff}\")\n",
    "\n",
    "stat_parity_rto = demographic_parity_ratio(y_test, y_pred, sensitive_features=X_test[\"X4\"])\n",
    "print(f\"Statistical Parity ratio: {stat_parity_rto}\")\n",
    "\n",
    "# Equalized Odds\n",
    "equal_odds_diff = equalized_odds_difference(y_test, y_pred, sensitive_features=X_test[\"X4\"])\n",
    "print(f\"Equalized Odds Difference: {equal_odds_diff}\")\n",
    "\n",
    "equal_odds_rto = equalized_odds_ratio(y_test, y_pred, sensitive_features=X_test[\"X4\"])\n",
    "print(f\"Equalized Odds Ratio: {equal_odds_rto}\")"
   ]
  }
 ],
 "metadata": {
  "kernelspec": {
   "display_name": "Python 3 (ipykernel)",
   "language": "python",
   "name": "python3"
  },
  "language_info": {
   "codemirror_mode": {
    "name": "ipython",
    "version": 3
   },
   "file_extension": ".py",
   "mimetype": "text/x-python",
   "name": "python",
   "nbconvert_exporter": "python",
   "pygments_lexer": "ipython3",
   "version": "3.9.7"
  }
 },
 "nbformat": 4,
 "nbformat_minor": 5
}
