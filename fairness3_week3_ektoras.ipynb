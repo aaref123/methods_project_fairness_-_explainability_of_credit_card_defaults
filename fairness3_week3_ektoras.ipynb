{
 "cells": [
  {
   "cell_type": "code",
   "execution_count": 2,
   "metadata": {
    "colab": {
     "base_uri": "https://localhost:8080/"
    },
    "id": "zRQU9iHkWf7v",
    "outputId": "318e0cf3-f659-4426-975a-072455bfafa2"
   },
   "outputs": [
    {
     "name": "stdout",
     "output_type": "stream",
     "text": [
      "Collecting fairlearn\n",
      "  Downloading fairlearn-0.9.0-py3-none-any.whl (231 kB)\n",
      "\u001b[2K     \u001b[90m━━━━━━━━━━━━━━━━━━━━━━━━━━━━━━━━━━━━━━━━\u001b[0m \u001b[32m231.5/231.5 kB\u001b[0m \u001b[31m6.2 MB/s\u001b[0m eta \u001b[36m0:00:00\u001b[0ma \u001b[36m0:00:01\u001b[0m\n",
      "\u001b[?25hRequirement already satisfied: numpy>=1.18.0 in /usr/local/lib/python3.10/dist-packages (from fairlearn) (1.23.5)\n",
      "Requirement already satisfied: pandas>=0.25.2 in /usr/local/lib/python3.10/dist-packages (from fairlearn) (1.5.3)\n",
      "Requirement already satisfied: scikit-learn>=0.22.1 in /usr/local/lib/python3.10/dist-packages (from fairlearn) (1.2.2)\n",
      "Requirement already satisfied: scipy>=1.5.0 in /usr/local/lib/python3.10/dist-packages (from fairlearn) (1.11.3)\n",
      "Requirement already satisfied: python-dateutil>=2.8.1 in /usr/local/lib/python3.10/dist-packages (from pandas>=0.25.2->fairlearn) (2.8.2)\n",
      "Requirement already satisfied: pytz>=2020.1 in /usr/local/lib/python3.10/dist-packages (from pandas>=0.25.2->fairlearn) (2023.3.post1)\n",
      "Requirement already satisfied: joblib>=1.1.1 in /usr/local/lib/python3.10/dist-packages (from scikit-learn>=0.22.1->fairlearn) (1.3.2)\n",
      "Requirement already satisfied: threadpoolctl>=2.0.0 in /usr/local/lib/python3.10/dist-packages (from scikit-learn>=0.22.1->fairlearn) (3.2.0)\n",
      "Requirement already satisfied: six>=1.5 in /usr/local/lib/python3.10/dist-packages (from python-dateutil>=2.8.1->pandas>=0.25.2->fairlearn) (1.16.0)\n",
      "Installing collected packages: fairlearn\n",
      "Successfully installed fairlearn-0.9.0\n"
     ]
    }
   ],
   "source": [
    "# Installing the fairlearn package\n",
    "!pip install fairlearn"
   ]
  },
  {
   "cell_type": "code",
   "execution_count": 3,
   "metadata": {
    "id": "lmVZIs0BW6Sl"
   },
   "outputs": [],
   "source": [
    "import numpy as np\n",
    "import pandas as pd\n",
    "from sklearn.ensemble import RandomForestClassifier\n",
    "from sklearn.model_selection import train_test_split\n",
    "from sklearn.metrics import balanced_accuracy_score, precision_score, roc_auc_score\n",
    "from fairlearn.metrics import MetricFrame, selection_rate, demographic_parity_difference, equalized_odds_difference\n",
    "from fairlearn.metrics import demographic_parity_ratio, equalized_odds_ratio\n",
    "import numpy as np\n",
    "import pandas as pd\n",
    "from sklearn.datasets import load_diabetes\n",
    "from sklearn.ensemble import RandomForestClassifier\n",
    "from sklearn.model_selection import GridSearchCV, cross_val_score\n",
    "import json\n",
    "import numpy as np\n",
    "import pandas as pd\n",
    "from sklearn.ensemble import RandomForestClassifier\n",
    "from sklearn.model_selection import train_test_split\n",
    "from sklearn.metrics import balanced_accuracy_score, precision_score, roc_auc_score\n",
    "from fairlearn.metrics import MetricFrame, selection_rate, demographic_parity_difference, equalized_odds_difference\n",
    "from fairlearn.metrics import demographic_parity_ratio, equalized_odds_ratio\n",
    "import seaborn as sns\n",
    "from fairlearn.preprocessing import CorrelationRemover\n",
    "from sklearn.pipeline import Pipeline\n",
    "from fairlearn.reductions import DemographicParity, ExponentiatedGradient\n"
   ]
  },
  {
   "cell_type": "code",
   "execution_count": 4,
   "metadata": {
    "colab": {
     "base_uri": "https://localhost:8080/"
    },
    "id": "12INRwwbW8Z7",
    "outputId": "c88e1d1e-f364-4064-e32e-5a5b0b3f32bd"
   },
   "outputs": [
    {
     "name": "stdout",
     "output_type": "stream",
     "text": [
      "Requirement already satisfied: xlrd in /usr/local/lib/python3.10/dist-packages (2.0.1)\n"
     ]
    }
   ],
   "source": [
    "!pip install xlrd"
   ]
  },
  {
   "cell_type": "code",
   "execution_count": 7,
   "metadata": {
    "colab": {
     "base_uri": "https://localhost:8080/"
    },
    "id": "TUCk5rpUW-xl",
    "outputId": "1116f77e-7634-42e7-ac33-949829ab7784"
   },
   "outputs": [
    {
     "name": "stdout",
     "output_type": "stream",
     "text": [
      "      Unnamed: 0         X1   X2         X3        X4   X5     X6     X7  \\\n",
      "0             ID  LIMIT_BAL  SEX  EDUCATION  MARRIAGE  AGE  PAY_0  PAY_2   \n",
      "1              1      20000    2          2         1   24      2      2   \n",
      "2              2     120000    2          2         2   26     -1      2   \n",
      "3              3      90000    2          2         2   34      0      0   \n",
      "4              4      50000    2          2         1   37      0      0   \n",
      "...          ...        ...  ...        ...       ...  ...    ...    ...   \n",
      "29996      29996     220000    1          3         1   39      0      0   \n",
      "29997      29997     150000    1          3         2   43     -1     -1   \n",
      "29998      29998      30000    1          2         2   37      4      3   \n",
      "29999      29999      80000    1          3         1   41      1     -1   \n",
      "30000      30000      50000    1          2         1   46      0      0   \n",
      "\n",
      "          X8     X9  ...        X15        X16        X17       X18       X19  \\\n",
      "0      PAY_3  PAY_4  ...  BILL_AMT4  BILL_AMT5  BILL_AMT6  PAY_AMT1  PAY_AMT2   \n",
      "1         -1     -1  ...          0          0          0         0       689   \n",
      "2          0      0  ...       3272       3455       3261         0      1000   \n",
      "3          0      0  ...      14331      14948      15549      1518      1500   \n",
      "4          0      0  ...      28314      28959      29547      2000      2019   \n",
      "...      ...    ...  ...        ...        ...        ...       ...       ...   \n",
      "29996      0      0  ...      88004      31237      15980      8500     20000   \n",
      "29997     -1     -1  ...       8979       5190          0      1837      3526   \n",
      "29998      2     -1  ...      20878      20582      19357         0         0   \n",
      "29999      0      0  ...      52774      11855      48944     85900      3409   \n",
      "30000      0      0  ...      36535      32428      15313      2078      1800   \n",
      "\n",
      "            X20       X21       X22       X23                           Y  \n",
      "0      PAY_AMT3  PAY_AMT4  PAY_AMT5  PAY_AMT6  default payment next month  \n",
      "1             0         0         0         0                           1  \n",
      "2          1000      1000         0      2000                           1  \n",
      "3          1000      1000      1000      5000                           0  \n",
      "4          1200      1100      1069      1000                           0  \n",
      "...         ...       ...       ...       ...                         ...  \n",
      "29996      5003      3047      5000      1000                           0  \n",
      "29997      8998       129         0         0                           0  \n",
      "29998     22000      4200      2000      3100                           1  \n",
      "29999      1178      1926     52964      1804                           1  \n",
      "30000      1430      1000      1000      1000                           1  \n",
      "\n",
      "[30001 rows x 25 columns]\n"
     ]
    },
    {
     "data": {
      "text/plain": [
       "1    1\n",
       "2    1\n",
       "3    0\n",
       "4    0\n",
       "5    0\n",
       "Name: Y, dtype: int64"
      ]
     },
     "execution_count": 7,
     "metadata": {},
     "output_type": "execute_result"
    }
   ],
   "source": [
    "import pandas as pd\n",
    "from sklearn.preprocessing import StandardScaler\n",
    "from sklearn.preprocessing import MinMaxScaler\n",
    "\n",
    "\n",
    "#reading file\n",
    "file_path = '/content/default of credit card clients (2).xls'\n",
    "\n",
    "# Read Excel file into a DataFrame\n",
    "df = pd.read_excel(file_path)\n",
    "\n",
    "print(df)\n",
    "\n",
    "\n",
    "X=df.drop(columns=['Y'])\n",
    "X=X.drop(columns=['Unnamed: 0'])\n",
    "\n",
    "X=X.drop(index=0)\n",
    "\n",
    "y=df['Y']\n",
    "y=y.drop(index=0)\n",
    "\n",
    "y=pd.to_numeric(y)\n",
    "y.head()\n",
    "X = X[X['X3'] != 0]\n",
    "X['X3'] = X['X3'].replace({5: 4, 6: 4})\n",
    "X = X[X['X4'] != 0]\n",
    "X['X4'] = X['X4'].replace({4:3,5: 3, 6: 3})\n",
    "y = y[X.index]  # Update y to match the filtered rows in X\n",
    "for column in X:\n",
    "    X[column] = pd.to_numeric(X[column])\n",
    "    X[column].head()\n",
    "\n",
    "\n",
    "#minmax scaler or standard scaler\n",
    "\n",
    "#split data\n",
    "X_train, X_test, y_train, y_test = train_test_split(X, y, test_size=0.2, random_state=42)\n",
    "\n",
    "#\n",
    "#sensitive_test = X_test['X2']\n",
    "\n",
    "\n",
    "\n",
    "y.head()"
   ]
  },
  {
   "cell_type": "code",
   "execution_count": 8,
   "metadata": {
    "id": "qPloBUlCXNjN"
   },
   "outputs": [],
   "source": [
    "pipeline = Pipeline(\n",
    "    steps=[\n",
    "        (\"classifier\",RandomForestClassifier(max_depth=10, min_samples_leaf=2, min_samples_split=5, n_estimators=150)),\n",
    "    ]\n",
    ")"
   ]
  },
  {
   "cell_type": "markdown",
   "metadata": {},
   "source": [
    "testing gradient exopnent on X2"
   ]
  },
  {
   "cell_type": "code",
   "execution_count": 7,
   "metadata": {
    "id": "YHifGyB8XPhX"
   },
   "outputs": [],
   "source": [
    "#FIRST TEST ON X2 GENDER\n",
    "sensitive_train = X_train['X2']\n",
    "sensitive_test = X_test['X2']\n",
    "exponentiated_gradient = ExponentiatedGradient(\n",
    "    estimator=pipeline,\n",
    "    constraints=DemographicParity(),\n",
    "    sample_weight_name=\"classifier__sample_weight\"\n",
    ")\n",
    "exponentiated_gradient.fit(X_train, y_train, sensitive_features=sensitive_train)\n",
    "y_pred = exponentiated_gradient.predict(X_test)"
   ]
  },
  {
   "cell_type": "code",
   "execution_count": 8,
   "metadata": {
    "colab": {
     "base_uri": "https://localhost:8080/"
    },
    "id": "lxSGj0jGYQiI",
    "outputId": "a5877a86-a26d-4248-a6be-231cc71f38d5"
   },
   "outputs": [
    {
     "name": "stdout",
     "output_type": "stream",
     "text": [
      "Accuracy: 0.6462493445353135\n"
     ]
    }
   ],
   "source": [
    "# Measure accuracy\n",
    "accuracy = balanced_accuracy_score(y_test, y_pred)\n",
    "print(f\"Accuracy: {accuracy}\")\n"
   ]
  },
  {
   "cell_type": "code",
   "execution_count": 9,
   "metadata": {
    "colab": {
     "base_uri": "https://localhost:8080/",
     "height": 692
    },
    "id": "2le_3Di1YR1y",
    "outputId": "ec2faa17-4475-4f09-b6d8-64e713713dda"
   },
   "outputs": [
    {
     "data": {
      "text/plain": [
       "array([[<Axes: title={'center': 'accuracy'}, xlabel='X2'>,\n",
       "        <Axes: title={'center': 'precision'}, xlabel='X2'>,\n",
       "        <Axes: title={'center': 'false positive rate'}, xlabel='X2'>],\n",
       "       [<Axes: title={'center': 'false negative rate'}, xlabel='X2'>,\n",
       "        <Axes: title={'center': 'selection rate'}, xlabel='X2'>,\n",
       "        <Axes: xlabel='X2'>],\n",
       "       [<Axes: xlabel='X2'>, <Axes: xlabel='X2'>, <Axes: xlabel='X2'>]],\n",
       "      dtype=object)"
      ]
     },
     "execution_count": 9,
     "metadata": {},
     "output_type": "execute_result"
    },
    {
     "data": {
      "image/png": "[encoded data removed]",
      "text/plain": [
       "<Figure size 1200x800 with 9 Axes>"
      ]
     },
     "metadata": {},
     "output_type": "display_data"
    }
   ],
   "source": [
    "from fairlearn.metrics import (\n",
    "    MetricFrame,\n",
    "    count,\n",
    "    false_negative_rate,\n",
    "    false_positive_rate,\n",
    "    selection_rate,\n",
    ")\n",
    "# Analyze metrics using MetricFrame\n",
    "metrics = {\n",
    "    \"accuracy\": balanced_accuracy_score,\n",
    "    \"precision\": precision_score,\n",
    "    \"false positive rate\": false_positive_rate,\n",
    "    \"false negative rate\": false_negative_rate,\n",
    "    \"selection rate\": selection_rate,\n",
    "}\n",
    "metric_frame = MetricFrame(\n",
    "    metrics=metrics, y_true=y_test, y_pred=y_pred, sensitive_features=sensitive_test\n",
    ")\n",
    "metric_frame.by_group.plot.bar(\n",
    "    subplots=True,\n",
    "    layout=[3, 3],\n",
    "    legend=False,\n",
    "    figsize=[12, 8],\n",
    "    ylim=[0,1.05],\n",
    "    title=\"Show all metrics\",\n",
    ")\n"
   ]
  },
  {
   "cell_type": "code",
   "execution_count": 10,
   "metadata": {
    "colab": {
     "base_uri": "https://localhost:8080/"
    },
    "id": "FCOjt8teYcO-",
    "outputId": "f8f8c13e-de9d-4a92-a506-2cd819a7dbe2"
   },
   "outputs": [
    {
     "name": "stdout",
     "output_type": "stream",
     "text": [
      "Statistical Parity Difference: 0.023493020370609366\n",
      "Statistical Parity ratio: 0.8027244971682943\n",
      "Equalized Odds Difference: 0.09144374881426676\n",
      "Equalized Odds Ratio: 0.7481265799927771\n"
     ]
    }
   ],
   "source": [
    "\n",
    "# Statistical Parity\n",
    "stat_parity_diff = demographic_parity_difference(y_test, y_pred, sensitive_features=sensitive_test)\n",
    "print(f\"Statistical Parity Difference: {stat_parity_diff}\")\n",
    "\n",
    "stat_parity_rto = demographic_parity_ratio(y_test, y_pred, sensitive_features=sensitive_test)\n",
    "print(f\"Statistical Parity ratio: {stat_parity_rto}\")\n",
    "\n",
    "# Equalized Odds\n",
    "equal_odds_diff = equalized_odds_difference(y_test, y_pred, sensitive_features=sensitive_test)\n",
    "print(f\"Equalized Odds Difference: {equal_odds_diff}\")\n",
    "\n",
    "equal_odds_rto = equalized_odds_ratio(y_test, y_pred, sensitive_features=sensitive_test)\n",
    "print(f\"Equalized Odds Ratio: {equal_odds_rto}\")"
   ]
  },
  {
   "cell_type": "markdown",
   "metadata": {},
   "source": [
    "testing gradient exopnent on X3"
   ]
  },
  {
   "cell_type": "code",
   "execution_count": 9,
   "metadata": {
    "id": "Awq-jskEc4Su"
   },
   "outputs": [],
   "source": [
    "#SECOND TEST ON X3 EDUCATION\n",
    "sensitive_train = X_train['X3']\n",
    "sensitive_test = X_test['X3']\n",
    "exponentiated_gradient = ExponentiatedGradient(\n",
    "    estimator=pipeline,\n",
    "    constraints=DemographicParity(),\n",
    "    sample_weight_name=\"classifier__sample_weight\"\n",
    ")\n",
    "exponentiated_gradient.fit(X_train, y_train, sensitive_features=sensitive_train)\n",
    "y_pred = exponentiated_gradient.predict(X_test)"
   ]
  },
  {
   "cell_type": "code",
   "execution_count": 10,
   "metadata": {
    "colab": {
     "base_uri": "https://localhost:8080/"
    },
    "id": "0O3pVjYZd-fr",
    "outputId": "3dec9b67-ba2b-42f7-898f-53b42aaa1383"
   },
   "outputs": [
    {
     "name": "stdout",
     "output_type": "stream",
     "text": [
      "Accuracy: 0.6450868556976108\n"
     ]
    }
   ],
   "source": [
    "# Measure accuracy\n",
    "accuracy = balanced_accuracy_score(y_test, y_pred)\n",
    "print(f\"Accuracy: {accuracy}\")\n"
   ]
  },
  {
   "cell_type": "code",
   "execution_count": 11,
   "metadata": {
    "colab": {
     "base_uri": "https://localhost:8080/",
     "height": 692
    },
    "id": "DdvXn3fVd_MJ",
    "outputId": "6368da40-3d97-4e5e-8660-4402465acf18"
   },
   "outputs": [
    {
     "data": {
      "text/plain": [
       "array([[<Axes: title={'center': 'accuracy'}, xlabel='X3'>,\n",
       "        <Axes: title={'center': 'precision'}, xlabel='X3'>,\n",
       "        <Axes: title={'center': 'false positive rate'}, xlabel='X3'>],\n",
       "       [<Axes: title={'center': 'false negative rate'}, xlabel='X3'>,\n",
       "        <Axes: title={'center': 'selection rate'}, xlabel='X3'>,\n",
       "        <Axes: xlabel='X3'>],\n",
       "       [<Axes: xlabel='X3'>, <Axes: xlabel='X3'>, <Axes: xlabel='X3'>]],\n",
       "      dtype=object)"
      ]
     },
     "execution_count": 11,
     "metadata": {},
     "output_type": "execute_result"
    },
    {
     "data": {
      "image/png": "[encoded data removed]",
      "text/plain": [
       "<Figure size 1200x800 with 9 Axes>"
      ]
     },
     "metadata": {},
     "output_type": "display_data"
    }
   ],
   "source": [
    "from fairlearn.metrics import (\n",
    "    MetricFrame,\n",
    "    count,\n",
    "    false_negative_rate,\n",
    "    false_positive_rate,\n",
    "    selection_rate,\n",
    ")\n",
    "# Analyze metrics using MetricFrame\n",
    "metrics = {\n",
    "    \"accuracy\": balanced_accuracy_score,\n",
    "    \"precision\": precision_score,\n",
    "    \"false positive rate\": false_positive_rate,\n",
    "    \"false negative rate\": false_negative_rate,\n",
    "    \"selection rate\": selection_rate,\n",
    "}\n",
    "metric_frame = MetricFrame(\n",
    "    metrics=metrics, y_true=y_test, y_pred=y_pred, sensitive_features=sensitive_test\n",
    ")\n",
    "metric_frame.by_group.plot.bar(\n",
    "    subplots=True,\n",
    "    layout=[3, 3],\n",
    "    legend=False,\n",
    "    figsize=[12, 8],\n",
    "    ylim=[0,1.05],\n",
    "    title=\"Show all metrics\",\n",
    ")\n"
   ]
  },
  {
   "cell_type": "code",
   "execution_count": 12,
   "metadata": {
    "colab": {
     "base_uri": "https://localhost:8080/"
    },
    "id": "sTinea6PgaUI",
    "outputId": "cdc3b4cd-24a2-49b6-df8d-8dbbaafea485"
   },
   "outputs": [
    {
     "name": "stdout",
     "output_type": "stream",
     "text": [
      "Statistical Parity Difference: 0.03208833363572744\n",
      "Statistical Parity ratio: 0.75249900039984\n",
      "Equalized Odds Difference: 0.34872979214780603\n",
      "Equalized Odds Ratio: 0.0\n"
     ]
    }
   ],
   "source": [
    "\n",
    "# Statistical Parity\n",
    "stat_parity_diff = demographic_parity_difference(y_test, y_pred, sensitive_features=sensitive_test)\n",
    "print(f\"Statistical Parity Difference: {stat_parity_diff}\")\n",
    "\n",
    "stat_parity_rto = demographic_parity_ratio(y_test, y_pred, sensitive_features=sensitive_test)\n",
    "print(f\"Statistical Parity ratio: {stat_parity_rto}\")\n",
    "\n",
    "# Equalized Odds\n",
    "equal_odds_diff = equalized_odds_difference(y_test, y_pred, sensitive_features=sensitive_test)\n",
    "print(f\"Equalized Odds Difference: {equal_odds_diff}\")\n",
    "\n",
    "equal_odds_rto = equalized_odds_ratio(y_test, y_pred, sensitive_features=sensitive_test)\n",
    "print(f\"Equalized Odds Ratio: {equal_odds_rto}\")"
   ]
  },
  {
   "cell_type": "markdown",
   "metadata": {},
   "source": [
    "testing gradient exopnenton X4"
   ]
  },
  {
   "cell_type": "code",
   "execution_count": 13,
   "metadata": {
    "id": "OXYBwGXTeCTJ"
   },
   "outputs": [],
   "source": [
    "#THIRD TEST ON X4 MARRIAGE\n",
    "sensitive_train = X_train['X4']\n",
    "sensitive_test = X_test['X4']\n",
    "exponentiated_gradient = ExponentiatedGradient(\n",
    "    estimator=pipeline,\n",
    "    constraints=DemographicParity(),\n",
    "    sample_weight_name=\"classifier__sample_weight\"\n",
    ")\n",
    "exponentiated_gradient.fit(X_train, y_train, sensitive_features=sensitive_train)\n",
    "y_pred = exponentiated_gradient.predict(X_test)"
   ]
  },
  {
   "cell_type": "code",
   "execution_count": 14,
   "metadata": {
    "colab": {
     "base_uri": "https://localhost:8080/"
    },
    "id": "jR2DVYBQeaho",
    "outputId": "fe3f2f6b-7ebb-4536-bc1e-912002f8fd1c"
   },
   "outputs": [
    {
     "name": "stdout",
     "output_type": "stream",
     "text": [
      "Accuracy: 0.648101173708161\n"
     ]
    }
   ],
   "source": [
    "# Measure accuracy\n",
    "accuracy = balanced_accuracy_score(y_test, y_pred)\n",
    "print(f\"Accuracy: {accuracy}\")\n"
   ]
  },
  {
   "cell_type": "code",
   "execution_count": 15,
   "metadata": {
    "colab": {
     "base_uri": "https://localhost:8080/",
     "height": 692
    },
    "id": "I9PjBD5ZecTJ",
    "outputId": "8139c224-8ca9-4879-d509-40ca16861d91"
   },
   "outputs": [
    {
     "data": {
      "text/plain": [
       "array([[<Axes: title={'center': 'accuracy'}, xlabel='X4'>,\n",
       "        <Axes: title={'center': 'precision'}, xlabel='X4'>,\n",
       "        <Axes: title={'center': 'false positive rate'}, xlabel='X4'>],\n",
       "       [<Axes: title={'center': 'false negative rate'}, xlabel='X4'>,\n",
       "        <Axes: title={'center': 'selection rate'}, xlabel='X4'>,\n",
       "        <Axes: xlabel='X4'>],\n",
       "       [<Axes: xlabel='X4'>, <Axes: xlabel='X4'>, <Axes: xlabel='X4'>]],\n",
       "      dtype=object)"
      ]
     },
     "execution_count": 15,
     "metadata": {},
     "output_type": "execute_result"
    },
    {
     "data": {
      "image/png": "[encoded data removed]",
      "text/plain": [
       "<Figure size 1200x800 with 9 Axes>"
      ]
     },
     "metadata": {},
     "output_type": "display_data"
    }
   ],
   "source": [
    "from fairlearn.metrics import (\n",
    "    MetricFrame,\n",
    "    count,\n",
    "    false_negative_rate,\n",
    "    false_positive_rate,\n",
    "    selection_rate,\n",
    ")\n",
    "# Analyze metrics using MetricFrame\n",
    "metrics = {\n",
    "    \"accuracy\": balanced_accuracy_score,\n",
    "    \"precision\": precision_score,\n",
    "    \"false positive rate\": false_positive_rate,\n",
    "    \"false negative rate\": false_negative_rate,\n",
    "    \"selection rate\": selection_rate,\n",
    "}\n",
    "metric_frame = MetricFrame(\n",
    "    metrics=metrics, y_true=y_test, y_pred=y_pred, sensitive_features=sensitive_test\n",
    ")\n",
    "metric_frame.by_group.plot.bar(\n",
    "    subplots=True,\n",
    "    layout=[3, 3],\n",
    "    legend=False,\n",
    "    figsize=[12, 8],\n",
    "    ylim=[0,1.05],\n",
    "    title=\"Show all metrics\",\n",
    ")\n"
   ]
  },
  {
   "cell_type": "code",
   "execution_count": 16,
   "metadata": {
    "colab": {
     "base_uri": "https://localhost:8080/"
    },
    "id": "L1A5JH2bhRAb",
    "outputId": "0c035887-5c09-4725-e008-1c35c89a6fab"
   },
   "outputs": [
    {
     "name": "stdout",
     "output_type": "stream",
     "text": [
      "Statistical Parity Difference: 0.06363082127123977\n",
      "Statistical Parity ratio: 0.6297843126036958\n",
      "Equalized Odds Difference: 0.04501434720229558\n",
      "Equalized Odds Ratio: 0.8799617407938785\n"
     ]
    }
   ],
   "source": [
    "\n",
    "# Statistical Parity\n",
    "stat_parity_diff = demographic_parity_difference(y_test, y_pred, sensitive_features=sensitive_test)\n",
    "print(f\"Statistical Parity Difference: {stat_parity_diff}\")\n",
    "\n",
    "stat_parity_rto = demographic_parity_ratio(y_test, y_pred, sensitive_features=sensitive_test)\n",
    "print(f\"Statistical Parity ratio: {stat_parity_rto}\")\n",
    "\n",
    "# Equalized Odds\n",
    "equal_odds_diff = equalized_odds_difference(y_test, y_pred, sensitive_features=sensitive_test)\n",
    "print(f\"Equalized Odds Difference: {equal_odds_diff}\")\n",
    "\n",
    "equal_odds_rto = equalized_odds_ratio(y_test, y_pred, sensitive_features=sensitive_test)\n",
    "print(f\"Equalized Odds Ratio: {equal_odds_rto}\")"
   ]
  }
 ],
 "metadata": {
  "colab": {
   "provenance": []
  },
  "kernelspec": {
   "display_name": "Python 3 (ipykernel)",
   "language": "python",
   "name": "python3"
  },
  "language_info": {
   "codemirror_mode": {
    "name": "ipython",
    "version": 3
   },
   "file_extension": ".py",
   "mimetype": "text/x-python",
   "name": "python",
   "nbconvert_exporter": "python",
   "pygments_lexer": "ipython3",
   "version": "3.9.7"
  }
 },
 "nbformat": 4,
 "nbformat_minor": 4
}
